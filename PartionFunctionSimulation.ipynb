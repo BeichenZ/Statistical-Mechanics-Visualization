{
 "cells": [
  {
   "cell_type": "markdown",
   "metadata": {},
   "source": [
    "#Jupyter Notebook Crush Course\n",
    "[(Credit to this online tutorial)](https://www.dataquest.io/blog/jupyter-notebook-tutorial/)\n",
    "##What is Jupyter Notebook?\n",
    "It's a web broswer based application that allows you to present formatted(Markdown) texts and code with inline running results. It has two primary components: the Cell and Kernal. Cell refers to each visual block displayed in the browser that either represents a paragraph of texts or excutable code. Kernal is the computation engine used to execute and output the executable code in the cells. In our case, Kernal is the specific python.exe installed on your local machine. It allows easy text/picture editting and enables audience to run codes in real time to see the results. \n",
    "\n",
    "##Launch Jupyter Notebook\n",
    "* Download the example code from [link](Add The link you would like to have the code on, probably somewhere on physics department server)\n",
    "* Open Anaconda on your local machine, [install](https://docs.anaconda.com/anaconda/install/) it if you have not yet\n",
    "* Click on the Jupyter Notebook logo. It should automatically opens the default web-browser showing the Jupyter Dashboard.\n",
    "* Navigate the folders to where the example code is stored on your local machine\n",
    "* click on the \"PartitionFunctionSimulation.ipynb\"\n",
    "\n",
    "##Run the program and See Results in Real Time\n",
    "* Select the block of code you would like to run and click on it. It should be highlighted with green or blue.\n",
    "* Press shortcut ctlr+enter or using menu: Cell->Run Cell\n",
    "* The results will be updated in the blank below\n",
    "* (Please Note: you should run the first block as the set-up code each time you start a new session or restart the current session)\n",
    "\n",
    "##Reset the state and output of the computing scripts behind\n",
    "* using menu: Kernal -> Restart & Clear output\n",
    "\n",
    "##other useful commands:\n",
    "1. Run and Show results above and below current block:\n",
    "   Menu: Cell -> Run Above/Run Below\n",
    "2. Change the Python you would like to use to run the script\n",
    "   Menu: Kernal -> Change Kernal\n",
    "\n"
   ]
  },
  {
   "cell_type": "code",
   "execution_count": null,
   "metadata": {
    "collapsed": true
   },
   "outputs": [],
   "source": [
    "#Initial Set up Code that you should run first before using any of the following blocks\n",
    "%matplotlib inline\n",
    "from PFSimulation import *\n",
    "graph = True"
   ]
  },
  {
   "cell_type": "markdown",
   "metadata": {},
   "source": [
    "#Simple Harmonic Oscillator\n",
    "#class SimpleHarmonicOscillatorPF\n",
    "Calculate partition functions and related quantities of a 1-D simple harmonic oscillator by summation of each partition function terms and plot the result in comparsion with analytical solutions.\n",
    "\n",
    "* Partion Function\n",
    "Temperature Range:100-300k, number of terms in summation conducted:10e4"
   ]
  },
  {
   "cell_type": "code",
   "execution_count": null,
   "metadata": {
    "collapsed": false
   },
   "outputs": [],
   "source": [
    "\n",
    "sho1d = SimpleHarmonicOscillatorPF();\n",
    "PFsho = sho1d.PF([100,300],graph=graph);"
   ]
  },
  {
   "cell_type": "markdown",
   "metadata": {},
   "source": [
    "* Average Energy"
   ]
  },
  {
   "cell_type": "code",
   "execution_count": null,
   "metadata": {
    "collapsed": false
   },
   "outputs": [],
   "source": [
    "sho1d.AE(PF=PFsho,graph=graph);"
   ]
  },
  {
   "cell_type": "markdown",
   "metadata": {},
   "source": [
    "* Free Energy"
   ]
  },
  {
   "cell_type": "code",
   "execution_count": null,
   "metadata": {
    "collapsed": false
   },
   "outputs": [],
   "source": [
    " sho1d.FE(PF=PFsho,graph=graph);"
   ]
  },
  {
   "cell_type": "markdown",
   "metadata": {},
   "source": [
    "#Diatomic Gas\n",
    "#class diatomicPF\n",
    "This class calculates the parition function and relevant properties of diatomic gas particles described in textbook Sturge, 5.12 part(f).\n",
    "\n",
    "*Diatomic Gas\n",
    "use diatomic constant of carbon dioxide as the default value"
   ]
  },
  {
   "cell_type": "code",
   "execution_count": null,
   "metadata": {
    "collapsed": false
   },
   "outputs": [],
   "source": [
    "\n",
    "diatomicCO = diatomicPF()\n",
    "diatomicCO.PF([1,200]);"
   ]
  }
 ],
 "metadata": {
  "anaconda-cloud": {},
  "kernelspec": {
   "display_name": "Python [Root]",
   "language": "python",
   "name": "Python [Root]"
  },
  "language_info": {
   "codemirror_mode": {
    "name": "ipython",
    "version": 3
   },
   "file_extension": ".py",
   "mimetype": "text/x-python",
   "name": "python",
   "nbconvert_exporter": "python",
   "pygments_lexer": "ipython3",
   "version": "3.5.1"
  }
 },
 "nbformat": 4,
 "nbformat_minor": 0
}
